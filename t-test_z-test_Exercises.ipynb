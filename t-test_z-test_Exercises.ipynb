{
 "cells": [
  {
   "cell_type": "markdown",
   "metadata": {},
   "source": [
    "## Teste estatístico - test t and test z "
   ]
  },
  {
   "cell_type": "code",
   "execution_count": 1,
   "metadata": {},
   "outputs": [
    {
     "data": {
      "text/plain": [
       "1.9839715184496334"
      ]
     },
     "execution_count": 1,
     "metadata": {},
     "output_type": "execute_result"
    }
   ],
   "source": [
    "import numpy as np\n",
    "import scipy.stats as st\n",
    "from scipy import stats\n",
    "\n",
    "# distribuição normal\n",
    "st.norm.ppf(.975)\n",
    "\n",
    "# distribuição estudante\n",
    "st.t.ppf(0.975, 100)"
   ]
  },
  {
   "cell_type": "code",
   "execution_count": 17,
   "metadata": {},
   "outputs": [
    {
     "data": {
      "text/plain": [
       "-1.96"
      ]
     },
     "execution_count": 17,
     "metadata": {},
     "output_type": "execute_result"
    }
   ],
   "source": [
    "\n",
    "\n",
    "alpha_exemplo = 0.05 #% de confiança de 95%\n",
    "\n",
    "z_exemplo = round(st.norm.ppf((alpha_exemplo)/2),2)\n",
    "z_exemplo"
   ]
  },
  {
   "cell_type": "markdown",
   "metadata": {},
   "source": [
    "## Exercício 1 \n",
    "\n",
    "Considere que a lista salarios_ds contenha todos os salário de cientista de dados de uma empresa.\n",
    "\n",
    "Encontre o intervalo que contenha a média salarial com 80%, 90% e 95% de certeza"
   ]
  },
  {
   "cell_type": "code",
   "execution_count": 3,
   "metadata": {},
   "outputs": [],
   "source": [
    "import numpy as np \n",
    "#sampl = np.round(np.random.uniform(low=80000, high=110000, size=(100,)), 2)\n",
    "#sampl\n",
    "\n",
    "\n",
    "\n",
    "salarios_ds =   [ 82605.21,  93393.71,  85464.98,  92625.13,  98408.64,  81590.22,\n",
    "                85266.31, 105896.72,  97724.9 , 102549.14,  94121.39,  94544.41,\n",
    "                96384.59,  95887.11,  84898.81,  85034.68,  93842.46,  93368.26,\n",
    "                97195.34,  94823.33,  83793.13, 105053.1 ,  83338.4 ,  80981.04,\n",
    "               102967.96,  97461.64,  85435.99,  95663.41, 106912.8 ,  93901.26,\n",
    "               103306.45,  88845.02,  99412.42,  88884.58, 108330.36,  99637.31,\n",
    "               103846.76,  90227.44, 104976.52,  81033.71, 107316.78,  83366.22,\n",
    "               100928.4 ,  96078.14,  84649.25, 103063.54,  82044.95,  96476.43,\n",
    "                97173.01, 100722.12, 104887.99,  84868.76,  95244.14,  89161.29,\n",
    "                89527.86,  86746.64, 106910.23,  83010.37,  93912.12,  83314.89,\n",
    "                95755.1 ,  80705.84,  90825.41, 100990.38,  92755.5 ,  80516.65,\n",
    "               106506.93,  81381.28,  88590.39,  88981.25,  89984.74, 105236.23,\n",
    "                85807.39,  94245.45,  97714.8 , 102782.04, 103936.86, 105470.67,\n",
    "               104280.44, 104463.15,  94155.63,  86349.7 ,  86141.98, 109530.48,\n",
    "               109018.82,  87243.07,  82880.12,  92336.48,  92285.78,  93245.19,\n",
    "                90265.99,  83796.55,  88751.18, 105168.64,  98918.87, 106780.58,\n",
    "                91209.95, 106740.69,  83320.35, 104213.27]"
   ]
  },
  {
   "cell_type": "code",
   "execution_count": 4,
   "metadata": {},
   "outputs": [],
   "source": [
    "media = np.mean(salarios_ds)\n",
    "dev_pad = np.std(salarios_ds)\n",
    "raiz_n = len(salarios_ds)**0.5 "
   ]
  },
  {
   "cell_type": "code",
   "execution_count": 14,
   "metadata": {},
   "outputs": [],
   "source": [
    "def z (alpha):\n",
    "    y = st.norm.ppf((1-alpha)/2)\n",
    "    return y"
   ]
  },
  {
   "cell_type": "code",
   "execution_count": 15,
   "metadata": {},
   "outputs": [
    {
     "name": "stdout",
     "output_type": "stream",
     "text": [
      "-0.06\n",
      "-0.13\n",
      "-0.25\n"
     ]
    }
   ],
   "source": [
    "print(round(z(0.05),2)) #95% de confiança\n",
    "print(round(z(0.10),2)) #90% de confiança\n",
    "print(round(z(0.20),2)) #80% de confiança"
   ]
  },
  {
   "cell_type": "code",
   "execution_count": 6,
   "metadata": {},
   "outputs": [],
   "source": [
    "def limites(media, dev_pad, z, raiz_n):\n",
    "    limite_inferior = media - z*dev_pad/raiz_n\n",
    "    limite_superior = media + z*dev_pad/raiz_n\n",
    "    return print(\"Intervalo de confiança:\", limite_inferior, 'até', limite_superior)"
   ]
  },
  {
   "cell_type": "code",
   "execution_count": 17,
   "metadata": {},
   "outputs": [
    {
     "name": "stdout",
     "output_type": "stream",
     "text": [
      "Valor de z : -1.28\n",
      "Intervalo de confiança: 95300.05646861451 até 93146.37533138542\n",
      "None\n"
     ]
    }
   ],
   "source": [
    "# para % de confiaça de 80%\n",
    "alpha_80 = 0.2\n",
    "z_80 = round(z(alpha_80),2)\n",
    "print('Valor de z :', z_80)\n",
    "print(limites(media, dev_pad, z_80, raiz_n))\n"
   ]
  },
  {
   "cell_type": "code",
   "execution_count": 18,
   "metadata": {},
   "outputs": [
    {
     "name": "stdout",
     "output_type": "stream",
     "text": [
      "Valor de z : -1.64\n",
      "Intervalo de confiança: 95602.91787853735 até 92843.51392146258\n",
      "None\n"
     ]
    }
   ],
   "source": [
    "# para % de confiaça de 90%\n",
    "alpha_90 = 0.1\n",
    "z_90 = round(z(alpha_90),2)\n",
    "print('Valor de z :', z_90)\n",
    "print(limites(media, dev_pad, z_90, raiz_n))"
   ]
  },
  {
   "cell_type": "code",
   "execution_count": 19,
   "metadata": {},
   "outputs": [
    {
     "name": "stdout",
     "output_type": "stream",
     "text": [
      "Valor de z : -1.96\n",
      "Intervalo de confiança: 95872.12802069097 até 92574.30377930896\n",
      "None\n"
     ]
    }
   ],
   "source": [
    "# para % de confiaça de 99%\n",
    "alpha_95 = 0.05\n",
    "z_95 = round(z(alpha_95),2)\n",
    "print('Valor de z :', z_95)\n",
    "print(limites(media, dev_pad, z_95, raiz_n))"
   ]
  },
  {
   "cell_type": "markdown",
   "metadata": {},
   "source": []
  },
  {
   "cell_type": "markdown",
   "metadata": {},
   "source": []
  },
  {
   "cell_type": "markdown",
   "metadata": {},
   "source": []
  },
  {
   "cell_type": "markdown",
   "metadata": {},
   "source": [
    "### Exercício 2\n",
    "\n",
    "Agora considere que estamos olhando apenas para uma parte dos salários (que estão na lista parte_salarios).\n",
    "\n",
    "Definia o intervalo onde iremos encontrar o valor médio do salário de um cientista de dados com 80, 90 e 95% de certeza"
   ]
  },
  {
   "cell_type": "code",
   "execution_count": 20,
   "metadata": {},
   "outputs": [],
   "source": [
    "\n",
    "\n",
    "parte_salarios = [100928.4 ,  96078.14,  84649.25, 103063.54,  82044.95,  96476.43,\n",
    "                  97173.01, 100722.12, 104887.99,  84868.76,  95244.14,  89161.29,\n",
    "                  89527.86,  86746.64, 106910.23,  83010.37,  93912.12,  83314.89,\n",
    "                  95755.1 ,  80705.84,  90825.41, 100990.38,  92755.5 ,  80516.65,\n",
    "                  106506.93,  81381.28,  88590.39,  88981.25,  89984.74, 105236.23,]"
   ]
  },
  {
   "cell_type": "code",
   "execution_count": 22,
   "metadata": {},
   "outputs": [],
   "source": [
    "media_amostral = np.mean(parte_salarios)\n",
    "dev_pad_amostral = np.std(parte_salarios)\n",
    "n_amostral = len(parte_salarios)\n",
    "raiz_n_amostral = n_amostral**0.5 \n",
    "graus_liberdade = n_amostral - 1"
   ]
  },
  {
   "cell_type": "code",
   "execution_count": 13,
   "metadata": {},
   "outputs": [],
   "source": [
    "def t (alpha):\n",
    "    y2 = st.t.ppf((1 - alpha/2), graus_liberdade) # st.t.ppf((alpha/2, graus_liberdade)) #coddigo tem 2 argumentos pra funcionar\n",
    "    return y2"
   ]
  },
  {
   "cell_type": "code",
   "execution_count": 26,
   "metadata": {},
   "outputs": [],
   "source": [
    "def limites_amostrais(media_amostral, dev_pad_amostral, t, raiz_n):\n",
    "    limite_inferior_amostral = media_amostral - t*dev_pad_amostral/raiz_n\n",
    "    limite_superior_amostral = media_amostral + t*dev_pad_amostral/raiz_n\n",
    "    return print(\"Intervalo de confiança:\", limite_inferior_amostral, 'até', limite_superior_amostral)"
   ]
  },
  {
   "cell_type": "code",
   "execution_count": 30,
   "metadata": {},
   "outputs": [
    {
     "name": "stdout",
     "output_type": "stream",
     "text": [
      "Valor de t : -1.31\n",
      "Intervalo de confiança: 93770.90270755882 até 91625.7526257745\n",
      "None\n"
     ]
    }
   ],
   "source": [
    "alpha_80 = 0.2\n",
    "t_80 = round(t(alpha_80),2)\n",
    "print('Valor de t :', t_80)\n",
    "print(limites_amostrais(media_amostral, dev_pad_amostral, t_80, raiz_n))"
   ]
  },
  {
   "cell_type": "code",
   "execution_count": 29,
   "metadata": {},
   "outputs": [
    {
     "name": "stdout",
     "output_type": "stream",
     "text": [
      "Valor de t : -1.7\n",
      "Intervalo de confiança: 94090.21894110687 até 91306.43639222646\n",
      "None\n"
     ]
    }
   ],
   "source": [
    "alpha_90 = 0.1\n",
    "t_90 = round(t(alpha_90),2)\n",
    "print('Valor de t :', t_90)\n",
    "print(limites_amostrais(media_amostral, dev_pad_amostral, t_90, raiz_n))"
   ]
  },
  {
   "cell_type": "code",
   "execution_count": 31,
   "metadata": {},
   "outputs": [
    {
     "name": "stdout",
     "output_type": "stream",
     "text": [
      "Valor de t : -2.05\n",
      "Intervalo de confiança: 94376.78479172691 até 91019.87054160642\n",
      "None\n"
     ]
    }
   ],
   "source": [
    "alpha_95 = 0.05\n",
    "t_95 = round(t(alpha_95),2)\n",
    "print('Valor de t :', t_95)\n",
    "print(limites_amostrais(media_amostral, dev_pad_amostral, t_95, raiz_n))"
   ]
  },
  {
   "cell_type": "markdown",
   "metadata": {},
   "source": []
  },
  {
   "cell_type": "markdown",
   "metadata": {},
   "source": []
  },
  {
   "cell_type": "markdown",
   "metadata": {},
   "source": []
  },
  {
   "cell_type": "markdown",
   "metadata": {},
   "source": [
    "### Exercício 3\n",
    "\n",
    "Temos a população inteira das duas salas. Queremos verificar se realmente as notas da arquitetura são maiores que a engenharia.\n",
    "\n",
    "Como temos toda a população usamos o score-z. vamos considerar 95% de confiança"
   ]
  },
  {
   "cell_type": "code",
   "execution_count": 32,
   "metadata": {},
   "outputs": [],
   "source": [
    "nota_engenharia = [42.76, 59.23, 23.76, 52.38, 35.26, 22.46, 41.87, 55.97, 54.67,\n",
    "                   46.25, 39.76, 41.6 , 58.41, 12.93, 49.89, 26.13, 27.19, 14.04,\n",
    "                   21.95, 26.26, 49.29, 31.99, 30.31, 58.39, 23.02, 50.97, 26.72,\n",
    "                   47.13, 42.41, 44.76, 44.75, 37.71, 37.58, 27.48, 50.52, 19.55,\n",
    "                   38.1 , 22.39, 21.16, 13.53, 23.62, 38.83, 10.97, 32.9 , 55.24,\n",
    "                   59.67, 47.21, 47.64, 34.83, 13.25]"
   ]
  },
  {
   "cell_type": "code",
   "execution_count": 33,
   "metadata": {},
   "outputs": [],
   "source": [
    "nota_arquitetura = [23.56, 58.84, 69.24, 69.6 , 80.68, 56.38, 66.39, 39.26, 76.48,\n",
    "                   85.13, 41.34, 78.67, 58.9 , 50.17, 57.59, 20.31, 39.48, 32.28,\n",
    "                   67.86, 69.21, 20.14, 40.11, 42.8 , 56.01, 70.83, 46.25, 26.02,\n",
    "                   48.32, 72.63, 38.24, 23.47, 21.66, 53.14, 24.02, 20.07, 69.58,\n",
    "                   82.04, 46.48, 33.14, 78.91, 51.97, 56.77, 60.95, 53.51, 54.93,\n",
    "                   29.51, 24.88, 31.83, 55.32, 64.17]"
   ]
  },
  {
   "cell_type": "code",
   "execution_count": 34,
   "metadata": {},
   "outputs": [
    {
     "data": {
      "text/plain": [
       "-14.0876"
      ]
     },
     "execution_count": 34,
     "metadata": {},
     "output_type": "execute_result"
    }
   ],
   "source": [
    "np.mean(np.array(nota_engenharia)-np.array(nota_arquitetura))"
   ]
  },
  {
   "cell_type": "code",
   "execution_count": null,
   "metadata": {},
   "outputs": [],
   "source": []
  },
  {
   "cell_type": "code",
   "execution_count": 39,
   "metadata": {},
   "outputs": [
    {
     "name": "stdout",
     "output_type": "stream",
     "text": [
      "Valor de z : -1.96\n",
      "Intervalo de confiança: 40.57005286382428 até 32.817547136175726\n",
      "None\n"
     ]
    }
   ],
   "source": [
    "media_eng = np.mean(nota_engenharia)\n",
    "dev_pad_eng = np.std(nota_engenharia)\n",
    "raiz_n_eng = len(nota_engenharia)**0.5 \n",
    "\n",
    "print('Valor de z :', z_95)\n",
    "print(limites(media_eng, dev_pad_eng, z_95, raiz_n_eng))"
   ]
  },
  {
   "cell_type": "code",
   "execution_count": 38,
   "metadata": {},
   "outputs": [
    {
     "name": "stdout",
     "output_type": "stream",
     "text": [
      "Valor de z : -1.96\n",
      "Intervalo de confiança: 56.045044193458494 até 45.517755806541516\n",
      "None\n"
     ]
    }
   ],
   "source": [
    "media_arq = np.mean(nota_arquitetura)\n",
    "dev_pad_arq = np.std(nota_arquitetura)\n",
    "raiz_n_arq = len(nota_arquitetura)**0.5 \n",
    "\n",
    "print('Valor de z :', z_95)\n",
    "print(limites(media_arq, dev_pad_arq, z_95, raiz_n_arq))"
   ]
  },
  {
   "cell_type": "code",
   "execution_count": null,
   "metadata": {},
   "outputs": [],
   "source": [
    "#pelo intervalo de confiança, podemos observar que realmente as notas de enegnharia são menores"
   ]
  },
  {
   "cell_type": "code",
   "execution_count": 7,
   "metadata": {},
   "outputs": [
    {
     "data": {
      "text/plain": [
       "-14.0876"
      ]
     },
     "execution_count": 7,
     "metadata": {},
     "output_type": "execute_result"
    }
   ],
   "source": []
  },
  {
   "cell_type": "markdown",
   "metadata": {},
   "source": [
    "###  Exercício 4 - Companhia aérea"
   ]
  },
  {
   "cell_type": "markdown",
   "metadata": {},
   "source": [
    "Em uma companhia aérea temos um vôo com `368` assentos, com um número de passagens vendidas de `n = 400`. Sendo que a probabilidade de no-show é de `10%`, e o custo de um passageiro excedente é de `R$1.000,00` Reais, com $ 0.95 $ de confiança, qual é a exposição financeira total da empresa aérea?"
   ]
  },
  {
   "cell_type": "code",
   "execution_count": 2,
   "metadata": {},
   "outputs": [],
   "source": [
    "n = 400 # número de passagens vendidas\n",
    "p = 0.1 # probabilidade de no show\n",
    "risco_p_passageiro = 1000\n",
    "assentos = 368 # No. de assentos do avião"
   ]
  },
  {
   "cell_type": "markdown",
   "metadata": {},
   "source": [
    "#### Calculando a média:"
   ]
  },
  {
   "cell_type": "code",
   "execution_count": 2,
   "metadata": {},
   "outputs": [
    {
     "name": "stdout",
     "output_type": "stream",
     "text": [
      "média = 360.0\n"
     ]
    }
   ],
   "source": [
    "media = n * (1 - p)  \n",
    "print('média =', media)"
   ]
  },
  {
   "cell_type": "markdown",
   "metadata": {},
   "source": [
    "#### Cálculo do desvio-padrão pela variância $\\bigg(\\frac{\\sigma}{\\sqrt{n}}\\bigg)^{2} = p( 1 - p )$."
   ]
  },
  {
   "cell_type": "code",
   "execution_count": 12,
   "metadata": {},
   "outputs": [
    {
     "name": "stdout",
     "output_type": "stream",
     "text": [
      "desvio-padrão = 6.0\n"
     ]
    }
   ],
   "source": [
    "std_amostral = ( n * p * ( 1 - p ) ) ** 0.5\n",
    "print('desvio-padrão =', std_amostral)"
   ]
  },
  {
   "cell_type": "markdown",
   "metadata": {},
   "source": [
    "#### Calculando e imprimindo o intervalo de confiança."
   ]
  },
  {
   "cell_type": "code",
   "execution_count": 13,
   "metadata": {},
   "outputs": [
    {
     "name": "stdout",
     "output_type": "stream",
     "text": [
      "Intervalo de confiança: 348.0 <--> 372.0\n"
     ]
    }
   ],
   "source": [
    "int_inferior = media - 2 * std_amostral\n",
    "int_superior = media + 2 * std_amostral\n",
    "print('Intervalo de confiança:', int_inferior, '<-->', int_superior)"
   ]
  },
  {
   "cell_type": "markdown",
   "metadata": {},
   "source": [
    "#### calculando e imprimindo o risco financeiro."
   ]
  },
  {
   "cell_type": "code",
   "execution_count": 14,
   "metadata": {},
   "outputs": [
    {
     "name": "stdout",
     "output_type": "stream",
     "text": [
      "Risco financeiro total = 4000.0\n"
     ]
    }
   ],
   "source": [
    "risco = ( int_superior - assentos ) * risco_p_passageiro\n",
    "print ('Risco financeiro total =', risco)"
   ]
  },
  {
   "cell_type": "markdown",
   "metadata": {},
   "source": [
    "#### Importando as bilbiotecas para plotar a distribuição:"
   ]
  },
  {
   "cell_type": "code",
   "execution_count": 15,
   "metadata": {},
   "outputs": [],
   "source": [
    "import matplotlib.pyplot as plt\n",
    "%matplotlib inline\n",
    "import numpy as np\n",
    "import scipy.stats as stats\n",
    "import math"
   ]
  },
  {
   "cell_type": "markdown",
   "metadata": {},
   "source": [
    "#### Definindo os dados."
   ]
  },
  {
   "cell_type": "code",
   "execution_count": 16,
   "metadata": {},
   "outputs": [],
   "source": [
    "media = 360\n",
    "p = 0.1\n",
    "variance = p*( 1-p )\n",
    "std = 6 "
   ]
  },
  {
   "cell_type": "markdown",
   "metadata": {},
   "source": [
    "#### Definindo as coordenadas  de `x` com o auxílio de função [`np.linspace`](https://numpy.org/doc/stable/reference/generated/numpy.linspace.html), que retorna valores igualmente espaçados em um intervalos específico."
   ]
  },
  {
   "cell_type": "code",
   "execution_count": 17,
   "metadata": {},
   "outputs": [
    {
     "data": {
      "text/plain": [
       "array([342.        , 342.36363636, 342.72727273, 343.09090909,\n",
       "       343.45454545, 343.81818182, 344.18181818, 344.54545455,\n",
       "       344.90909091, 345.27272727, 345.63636364, 346.        ,\n",
       "       346.36363636, 346.72727273, 347.09090909, 347.45454545,\n",
       "       347.81818182, 348.18181818, 348.54545455, 348.90909091,\n",
       "       349.27272727, 349.63636364, 350.        , 350.36363636,\n",
       "       350.72727273, 351.09090909, 351.45454545, 351.81818182,\n",
       "       352.18181818, 352.54545455, 352.90909091, 353.27272727,\n",
       "       353.63636364, 354.        , 354.36363636, 354.72727273,\n",
       "       355.09090909, 355.45454545, 355.81818182, 356.18181818,\n",
       "       356.54545455, 356.90909091, 357.27272727, 357.63636364,\n",
       "       358.        , 358.36363636, 358.72727273, 359.09090909,\n",
       "       359.45454545, 359.81818182, 360.18181818, 360.54545455,\n",
       "       360.90909091, 361.27272727, 361.63636364, 362.        ,\n",
       "       362.36363636, 362.72727273, 363.09090909, 363.45454545,\n",
       "       363.81818182, 364.18181818, 364.54545455, 364.90909091,\n",
       "       365.27272727, 365.63636364, 366.        , 366.36363636,\n",
       "       366.72727273, 367.09090909, 367.45454545, 367.81818182,\n",
       "       368.18181818, 368.54545455, 368.90909091, 369.27272727,\n",
       "       369.63636364, 370.        , 370.36363636, 370.72727273,\n",
       "       371.09090909, 371.45454545, 371.81818182, 372.18181818,\n",
       "       372.54545455, 372.90909091, 373.27272727, 373.63636364,\n",
       "       374.        , 374.36363636, 374.72727273, 375.09090909,\n",
       "       375.45454545, 375.81818182, 376.18181818, 376.54545455,\n",
       "       376.90909091, 377.27272727, 377.63636364, 378.        ])"
      ]
     },
     "execution_count": 17,
     "metadata": {},
     "output_type": "execute_result"
    }
   ],
   "source": [
    "x = np.linspace(media - 3*std, media + 3*std, 100)\n",
    "x"
   ]
  },
  {
   "cell_type": "markdown",
   "metadata": {},
   "source": [
    "#### Plotamos a curva normal com a função [`stats.norm()`](https://docs.scipy.org/doc/scipy/reference/generated/scipy.stats.norm.html), que gera variáveis aleatórias normais e contínuas e a função de densidade de probabilidade [`.pdf()`](https://kite.com/python/docs/scipy.stats.norm.pdf)."
   ]
  },
  {
   "cell_type": "code",
   "execution_count": 23,
   "metadata": {},
   "outputs": [
    {
     "data": {
      "image/png": "[encoded data removed]",
      "text/plain": [
       "<Figure size 432x288 with 1 Axes>"
      ]
     },
     "metadata": {},
     "output_type": "display_data"
    }
   ],
   "source": [
    "import seaborn as sns\n",
    "\n",
    "sns.set_style('white')\n",
    "plt.plot(x, stats.norm.pdf(x, media, std))\n",
    "# coordenadas de x\n",
    "xcoords = [round(int_inferior,3),round(media,3),round(int_superior,3),assentos]\n",
    "# cor das linhas\n",
    "colors = ['r','k','r','b']\n",
    "# plotando as linhas\n",
    "for xc,c in zip(xcoords,colors):\n",
    "    plt.axvline(x=xc, label='line at x = {}'.format(xc), c=c)\n",
    "# plotando as legendas\n",
    "\n",
    "\n",
    "plt.legend()\n",
    "plt.show()"
   ]
  },
  {
   "cell_type": "code",
   "execution_count": null,
   "metadata": {},
   "outputs": [],
   "source": []
  }
 ],
 "metadata": {
  "kernelspec": {
   "display_name": "Python 3",
   "language": "python",
   "name": "python3"
  },
  "language_info": {
   "codemirror_mode": {
    "name": "ipython",
    "version": 3
   },
   "file_extension": ".py",
   "mimetype": "text/x-python",
   "name": "python",
   "nbconvert_exporter": "python",
   "pygments_lexer": "ipython3",
   "version": "3.9.2"
  }
 },
 "nbformat": 4,
 "nbformat_minor": 4
}
